{
 "cells": [
  {
   "cell_type": "markdown",
   "metadata": {},
   "source": [
    "# Projeto: Bank Marketing\n",
    "\n",
    "Fonte dos dados: http://archive.ics.uci.edu/ml/datasets/Bank+Marketing"
   ]
  },
  {
   "cell_type": "code",
   "execution_count": 7,
   "metadata": {},
   "outputs": [],
   "source": [
    "# pacotes necessários\n",
    "library(tidyverse)"
   ]
  },
  {
   "cell_type": "code",
   "execution_count": 8,
   "metadata": {},
   "outputs": [
    {
     "name": "stdout",
     "output_type": "stream",
     "text": [
      "'data.frame':\t45211 obs. of  17 variables:\n",
      " $ age      : int  58 44 33 47 33 35 28 42 58 43 ...\n",
      " $ job      : Factor w/ 12 levels \"admin.\",\"blue-collar\",..: 5 10 3 2 12 5 5 3 6 10 ...\n",
      " $ marital  : Factor w/ 3 levels \"divorced\",\"married\",..: 2 3 2 2 3 2 3 1 2 3 ...\n",
      " $ education: Factor w/ 4 levels \"primary\",\"secondary\",..: 3 2 2 4 4 3 3 3 1 2 ...\n",
      " $ default  : Factor w/ 2 levels \"no\",\"yes\": 1 1 1 1 1 1 1 2 1 1 ...\n",
      " $ balance  : int  2143 29 2 1506 1 231 447 2 121 593 ...\n",
      " $ housing  : Factor w/ 2 levels \"no\",\"yes\": 2 2 2 2 1 2 2 2 2 2 ...\n",
      " $ loan     : Factor w/ 2 levels \"no\",\"yes\": 1 1 2 1 1 1 2 1 1 1 ...\n",
      " $ contact  : Factor w/ 3 levels \"cellular\",\"telephone\",..: 3 3 3 3 3 3 3 3 3 3 ...\n",
      " $ day      : int  5 5 5 5 5 5 5 5 5 5 ...\n",
      " $ month    : Factor w/ 12 levels \"apr\",\"aug\",\"dec\",..: 9 9 9 9 9 9 9 9 9 9 ...\n",
      " $ duration : int  261 151 76 92 198 139 217 380 50 55 ...\n",
      " $ campaign : int  1 1 1 1 1 1 1 1 1 1 ...\n",
      " $ pdays    : int  -1 -1 -1 -1 -1 -1 -1 -1 -1 -1 ...\n",
      " $ previous : int  0 0 0 0 0 0 0 0 0 0 ...\n",
      " $ poutcome : Factor w/ 4 levels \"failure\",\"other\",..: 4 4 4 4 4 4 4 4 4 4 ...\n",
      " $ y        : Factor w/ 2 levels \"no\",\"yes\": 1 1 1 1 1 1 1 1 1 1 ...\n"
     ]
    }
   ],
   "source": [
    "# carregando os dataset\n",
    "df <- read.csv(file = \"bank-full.csv\", sep = \";\")\n",
    "\n",
    "# verificando a estrutura do dataset\n",
    "str(df)"
   ]
  },
  {
   "cell_type": "markdown",
   "metadata": {},
   "source": [
    " ## 1) Qual profissão tem mais tendência a fazer um empréstimo? De qual tipo?"
   ]
  },
  {
   "cell_type": "code",
   "execution_count": 9,
   "metadata": {},
   "outputs": [
    {
     "data": {
      "text/plain": [
       "               \n",
       "                  no  yes\n",
       "  blue-collar   8048 1684\n",
       "  technician    6288 1309\n",
       "  management    8205 1253\n",
       "  admin.        4180  991\n",
       "  services      3318  836\n",
       "  entrepreneur  1131  356\n",
       "  retired       1955  309\n",
       "  self-employed 1350  229\n",
       "  housemaid     1088  152\n",
       "  unemployed    1194  109\n",
       "  student        926   12\n",
       "  unknown        284    4"
      ]
     },
     "metadata": {},
     "output_type": "display_data"
    }
   ],
   "source": [
    "# tabela de contingência\n",
    "tab1 <- with(df, table(df$job, df$loan))\n",
    "tab1[order(tab1[,2], decreasing = TRUE),]"
   ]
  },
  {
   "cell_type": "markdown",
   "metadata": {},
   "source": [
    "### R: operários são os que mais pedem empréstimos!  "
   ]
  },
  {
   "cell_type": "markdown",
   "metadata": {},
   "source": [
    "## 2) Fazendo uma relação entre número de contatos e sucesso da campanha quais são os pontos relevantes a serem observados?\n"
   ]
  },
  {
   "cell_type": "code",
   "execution_count": 10,
   "metadata": {},
   "outputs": [
    {
     "data": {
      "text/html": [
       "<ol class=list-inline>\n",
       "\t<li>1</li>\n",
       "\t<li>2</li>\n",
       "\t<li>3</li>\n",
       "\t<li>5</li>\n",
       "\t<li>4</li>\n",
       "\t<li>6</li>\n",
       "\t<li>7</li>\n",
       "\t<li>8</li>\n",
       "\t<li>9</li>\n",
       "\t<li>10</li>\n",
       "\t<li>11</li>\n",
       "\t<li>12</li>\n",
       "\t<li>13</li>\n",
       "\t<li>19</li>\n",
       "\t<li>14</li>\n",
       "\t<li>24</li>\n",
       "\t<li>16</li>\n",
       "\t<li>32</li>\n",
       "\t<li>18</li>\n",
       "\t<li>22</li>\n",
       "\t<li>15</li>\n",
       "\t<li>17</li>\n",
       "\t<li>25</li>\n",
       "\t<li>21</li>\n",
       "\t<li>43</li>\n",
       "\t<li>51</li>\n",
       "\t<li>63</li>\n",
       "\t<li>41</li>\n",
       "\t<li>26</li>\n",
       "\t<li>28</li>\n",
       "\t<li>55</li>\n",
       "\t<li>50</li>\n",
       "\t<li>38</li>\n",
       "\t<li>23</li>\n",
       "\t<li>20</li>\n",
       "\t<li>29</li>\n",
       "\t<li>31</li>\n",
       "\t<li>37</li>\n",
       "\t<li>30</li>\n",
       "\t<li>46</li>\n",
       "\t<li>27</li>\n",
       "\t<li>58</li>\n",
       "\t<li>33</li>\n",
       "\t<li>35</li>\n",
       "\t<li>34</li>\n",
       "\t<li>36</li>\n",
       "\t<li>39</li>\n",
       "\t<li>44</li>\n",
       "</ol>\n"
      ],
      "text/latex": [
       "\\begin{enumerate*}\n",
       "\\item 1\n",
       "\\item 2\n",
       "\\item 3\n",
       "\\item 5\n",
       "\\item 4\n",
       "\\item 6\n",
       "\\item 7\n",
       "\\item 8\n",
       "\\item 9\n",
       "\\item 10\n",
       "\\item 11\n",
       "\\item 12\n",
       "\\item 13\n",
       "\\item 19\n",
       "\\item 14\n",
       "\\item 24\n",
       "\\item 16\n",
       "\\item 32\n",
       "\\item 18\n",
       "\\item 22\n",
       "\\item 15\n",
       "\\item 17\n",
       "\\item 25\n",
       "\\item 21\n",
       "\\item 43\n",
       "\\item 51\n",
       "\\item 63\n",
       "\\item 41\n",
       "\\item 26\n",
       "\\item 28\n",
       "\\item 55\n",
       "\\item 50\n",
       "\\item 38\n",
       "\\item 23\n",
       "\\item 20\n",
       "\\item 29\n",
       "\\item 31\n",
       "\\item 37\n",
       "\\item 30\n",
       "\\item 46\n",
       "\\item 27\n",
       "\\item 58\n",
       "\\item 33\n",
       "\\item 35\n",
       "\\item 34\n",
       "\\item 36\n",
       "\\item 39\n",
       "\\item 44\n",
       "\\end{enumerate*}\n"
      ],
      "text/markdown": [
       "1. 1\n",
       "2. 2\n",
       "3. 3\n",
       "4. 5\n",
       "5. 4\n",
       "6. 6\n",
       "7. 7\n",
       "8. 8\n",
       "9. 9\n",
       "10. 10\n",
       "11. 11\n",
       "12. 12\n",
       "13. 13\n",
       "14. 19\n",
       "15. 14\n",
       "16. 24\n",
       "17. 16\n",
       "18. 32\n",
       "19. 18\n",
       "20. 22\n",
       "21. 15\n",
       "22. 17\n",
       "23. 25\n",
       "24. 21\n",
       "25. 43\n",
       "26. 51\n",
       "27. 63\n",
       "28. 41\n",
       "29. 26\n",
       "30. 28\n",
       "31. 55\n",
       "32. 50\n",
       "33. 38\n",
       "34. 23\n",
       "35. 20\n",
       "36. 29\n",
       "37. 31\n",
       "38. 37\n",
       "39. 30\n",
       "40. 46\n",
       "41. 27\n",
       "42. 58\n",
       "43. 33\n",
       "44. 35\n",
       "45. 34\n",
       "46. 36\n",
       "47. 39\n",
       "48. 44\n",
       "\n",
       "\n"
      ],
      "text/plain": [
       " [1]  1  2  3  5  4  6  7  8  9 10 11 12 13 19 14 24 16 32 18 22 15 17 25 21 43\n",
       "[26] 51 63 41 26 28 55 50 38 23 20 29 31 37 30 46 27 58 33 35 34 36 39 44"
      ]
     },
     "metadata": {},
     "output_type": "display_data"
    }
   ],
   "source": [
    "# explorando a variável campaign\n",
    "unique(df$campaign)"
   ]
  },
  {
   "cell_type": "code",
   "execution_count": 11,
   "metadata": {},
   "outputs": [
    {
     "data": {
      "text/html": [
       "<ol class=list-inline>\n",
       "\t<li>unknown</li>\n",
       "\t<li>failure</li>\n",
       "\t<li>other</li>\n",
       "\t<li>success</li>\n",
       "</ol>\n",
       "\n",
       "<details>\n",
       "\t<summary style=display:list-item;cursor:pointer>\n",
       "\t\t<strong>Levels</strong>:\n",
       "\t</summary>\n",
       "\t<ol class=list-inline>\n",
       "\t\t<li>'failure'</li>\n",
       "\t\t<li>'other'</li>\n",
       "\t\t<li>'success'</li>\n",
       "\t\t<li>'unknown'</li>\n",
       "\t</ol>\n",
       "</details>"
      ],
      "text/latex": [
       "\\begin{enumerate*}\n",
       "\\item unknown\n",
       "\\item failure\n",
       "\\item other\n",
       "\\item success\n",
       "\\end{enumerate*}\n",
       "\n",
       "\\emph{Levels}: \\begin{enumerate*}\n",
       "\\item 'failure'\n",
       "\\item 'other'\n",
       "\\item 'success'\n",
       "\\item 'unknown'\n",
       "\\end{enumerate*}\n"
      ],
      "text/markdown": [
       "1. unknown\n",
       "2. failure\n",
       "3. other\n",
       "4. success\n",
       "\n",
       "\n",
       "\n",
       "**Levels**: 1. 'failure'\n",
       "2. 'other'\n",
       "3. 'success'\n",
       "4. 'unknown'\n",
       "\n",
       "\n"
      ],
      "text/plain": [
       "[1] unknown failure other   success\n",
       "Levels: failure other success unknown"
      ]
     },
     "metadata": {},
     "output_type": "display_data"
    }
   ],
   "source": [
    "# explorando a variável poutcome \n",
    "unique(df$poutcome)"
   ]
  },
  {
   "cell_type": "code",
   "execution_count": 12,
   "metadata": {},
   "outputs": [
    {
     "data": {
      "text/plain": [
       "         \n",
       "              1     2     3     4     5     6     7     8     9    10    11\n",
       "  failure  2458  1374   500   242   140    87    52    22    10     6     4\n",
       "  other     718   500   262   131    86    55    34    24    13     4     7\n",
       "  success   837   402   149    51    30    21    11     8     1     0     1\n",
       "  unknown 13531 10229  4610  3098  1508  1128   638   486   303   256   189\n",
       "         \n",
       "             12    13    14    15    16    17    18    19    20    21    22\n",
       "  failure     3     1     1     1     0     0     0     0     0     0     0\n",
       "  other       4     1     0     0     1     0     0     0     0     0     0\n",
       "  success     0     0     0     0     0     0     0     0     0     0     0\n",
       "  unknown   148   131    92    83    78    69    51    44    43    35    23\n",
       "         \n",
       "             23    24    25    26    27    28    29    30    31    32    33\n",
       "  failure     0     0     0     0     0     0     0     0     0     0     0\n",
       "  other       0     0     0     0     0     0     0     0     0     0     0\n",
       "  success     0     0     0     0     0     0     0     0     0     0     0\n",
       "  unknown    22    20    22    13    10    16    16     8    12     9     6\n",
       "         \n",
       "             34    35    36    37    38    39    41    43    44    46    50\n",
       "  failure     0     0     0     0     0     0     0     0     0     0     0\n",
       "  other       0     0     0     0     0     0     0     0     0     0     0\n",
       "  success     0     0     0     0     0     0     0     0     0     0     0\n",
       "  unknown     5     4     4     2     3     1     2     3     1     1     2\n",
       "         \n",
       "             51    55    58    63\n",
       "  failure     0     0     0     0\n",
       "  other       0     0     0     0\n",
       "  success     0     0     0     0\n",
       "  unknown     1     1     1     1"
      ]
     },
     "metadata": {},
     "output_type": "display_data"
    }
   ],
   "source": [
    "# tabela de contingência\n",
    "tab2 <- table(df$poutcome, df$campaign)\n",
    "tab2"
   ]
  },
  {
   "cell_type": "code",
   "execution_count": 13,
   "metadata": {},
   "outputs": [
    {
     "data": {
      "text/html": [
       "<dl class=dl-horizontal>\n",
       "\t<dt>failure</dt>\n",
       "\t\t<dd>4901</dd>\n",
       "\t<dt>other</dt>\n",
       "\t\t<dd>1840</dd>\n",
       "\t<dt>success</dt>\n",
       "\t\t<dd>1511</dd>\n",
       "\t<dt>unknown</dt>\n",
       "\t\t<dd>36959</dd>\n",
       "</dl>\n"
      ],
      "text/latex": [
       "\\begin{description*}\n",
       "\\item[failure] 4901\n",
       "\\item[other] 1840\n",
       "\\item[success] 1511\n",
       "\\item[unknown] 36959\n",
       "\\end{description*}\n"
      ],
      "text/markdown": [
       "failure\n",
       ":   4901other\n",
       ":   1840success\n",
       ":   1511unknown\n",
       ":   36959\n",
       "\n"
      ],
      "text/plain": [
       "failure   other success unknown \n",
       "   4901    1840    1511   36959 "
      ]
     },
     "metadata": {},
     "output_type": "display_data"
    }
   ],
   "source": [
    "# soma de tentativas por tipo de resultado da campanha\n",
    "rowSums(tab2)"
   ]
  },
  {
   "cell_type": "code",
   "execution_count": 14,
   "metadata": {},
   "outputs": [
    {
     "name": "stderr",
     "output_type": "stream",
     "text": [
      "Warning message:\n",
      "\"Deprecated, use tibble::rownames_to_column() instead.\""
     ]
    },
    {
     "name": "stdout",
     "output_type": "stream",
     "text": [
      "Classes 'tbl_df', 'tbl' and 'data.frame':\t48 obs. of  2 variables:\n",
      " $ VALUE    : chr  \"1\" \"2\" \"3\" \"4\" ...\n",
      " $ tab2[3, ]: int  837 402 149 51 30 21 11 8 1 0 ...\n"
     ]
    }
   ],
   "source": [
    "# preparando os dados para verificação do número de tentativas X frequência\n",
    "df2 <- as.data.frame(tab2[3,])\n",
    "df2 <- add_rownames(df2, \"VALUE\")\n",
    "\n",
    "# verificando a estrutura dos dados\n",
    "str(df2)"
   ]
  },
  {
   "cell_type": "code",
   "execution_count": 15,
   "metadata": {},
   "outputs": [],
   "source": [
    "# alterando a tipagem da coluna VALUE para número pois está como texto\n",
    "df2$VALUE <- as.integer(df2$VALUE)"
   ]
  },
  {
   "cell_type": "code",
   "execution_count": 16,
   "metadata": {
    "scrolled": true
   },
   "outputs": [
    {
     "data": {
      "image/png": "[encoded data removed]",
      "text/plain": [
       "plot without title"
      ]
     },
     "metadata": {},
     "output_type": "display_data"
    }
   ],
   "source": [
    "# vizualizando a relação entre número de tentativas e frequência\n",
    "ggplot(df2, aes(x = VALUE, y = tab2[3, ])) +\n",
    "    geom_point() +\n",
    "    xlab(\"Nr. de tentativas\") +\n",
    "    ylab(\"Frequência\")"
   ]
  },
  {
   "cell_type": "markdown",
   "metadata": {},
   "source": [
    "### R: Pelo gráfico de dispersão é possível visualizar que após aproximadamente 10 tentativas é irrelevante tentar entrar em contato com o cliente."
   ]
  },
  {
   "cell_type": "markdown",
   "metadata": {},
   "source": [
    "## 3) Baseando-se nos resultados de adesão desta campanha qual o número médio e o máximo de ligações que você indica para otimizar a adesão?"
   ]
  },
  {
   "cell_type": "code",
   "execution_count": 17,
   "metadata": {},
   "outputs": [
    {
     "data": {
      "text/html": [
       "<table>\n",
       "<thead><tr><th scope=col>VALUE</th><th scope=col>Freq</th></tr></thead>\n",
       "<tbody>\n",
       "\t<tr><td>1  </td><td>837</td></tr>\n",
       "\t<tr><td>2  </td><td>402</td></tr>\n",
       "\t<tr><td>3  </td><td>149</td></tr>\n",
       "\t<tr><td>4  </td><td> 51</td></tr>\n",
       "\t<tr><td>5  </td><td> 30</td></tr>\n",
       "\t<tr><td>6  </td><td> 21</td></tr>\n",
       "\t<tr><td>7  </td><td> 11</td></tr>\n",
       "\t<tr><td>8  </td><td>  8</td></tr>\n",
       "</tbody>\n",
       "</table>\n"
      ],
      "text/latex": [
       "\\begin{tabular}{r|ll}\n",
       " VALUE & Freq\\\\\n",
       "\\hline\n",
       "\t 1   & 837\\\\\n",
       "\t 2   & 402\\\\\n",
       "\t 3   & 149\\\\\n",
       "\t 4   &  51\\\\\n",
       "\t 5   &  30\\\\\n",
       "\t 6   &  21\\\\\n",
       "\t 7   &  11\\\\\n",
       "\t 8   &   8\\\\\n",
       "\\end{tabular}\n"
      ],
      "text/markdown": [
       "\n",
       "| VALUE | Freq |\n",
       "|---|---|\n",
       "| 1   | 837 |\n",
       "| 2   | 402 |\n",
       "| 3   | 149 |\n",
       "| 4   |  51 |\n",
       "| 5   |  30 |\n",
       "| 6   |  21 |\n",
       "| 7   |  11 |\n",
       "| 8   |   8 |\n",
       "\n"
      ],
      "text/plain": [
       "  VALUE Freq\n",
       "1 1     837 \n",
       "2 2     402 \n",
       "3 3     149 \n",
       "4 4      51 \n",
       "5 5      30 \n",
       "6 6      21 \n",
       "7 7      11 \n",
       "8 8       8 "
      ]
     },
     "metadata": {},
     "output_type": "display_data"
    }
   ],
   "source": [
    "# alterando o nome da coluna de frequência\n",
    "colnames(df2)[2] <- \"Freq\"\n",
    "\n",
    "# filtrando frequência diferente de zero\n",
    "df3 <- filter(df2, df2$Freq > 1)\n",
    "\n",
    "# visualizando as frequências por número de tentativas\n",
    "df3"
   ]
  },
  {
   "cell_type": "code",
   "execution_count": 18,
   "metadata": {},
   "outputs": [
    {
     "data": {
      "text/html": [
       "4"
      ],
      "text/latex": [
       "4"
      ],
      "text/markdown": [
       "4"
      ],
      "text/plain": [
       "[1] 4"
      ]
     },
     "metadata": {},
     "output_type": "display_data"
    }
   ],
   "source": [
    "# media do número de tentativas\n",
    "round(mean(df3$VALUE), digits = 0)"
   ]
  },
  {
   "cell_type": "code",
   "execution_count": 19,
   "metadata": {},
   "outputs": [
    {
     "data": {
      "text/html": [
       "8"
      ],
      "text/latex": [
       "8"
      ],
      "text/markdown": [
       "8"
      ],
      "text/plain": [
       "[1] 8"
      ]
     },
     "metadata": {},
     "output_type": "display_data"
    }
   ],
   "source": [
    "# número máximo de tentativas\n",
    "max(df3$VALUE)"
   ]
  },
  {
   "cell_type": "markdown",
   "metadata": {},
   "source": [
    "### R: Portanto o número médio de tentativas sugerido é de 4, e o número máximo é de 8 tentativas."
   ]
  },
  {
   "cell_type": "markdown",
   "metadata": {},
   "source": [
    "## 4) O resultado da campanha anterior tem relevância na campanha atual?"
   ]
  },
  {
   "cell_type": "code",
   "execution_count": 69,
   "metadata": {},
   "outputs": [
    {
     "data": {
      "text/plain": [
       "\n",
       "\tPearson's Chi-squared test\n",
       "\n",
       "data:  table(df$poutcome, df$y)\n",
       "X-squared = 4391.5, df = 3, p-value < 2.2e-16\n"
      ]
     },
     "metadata": {},
     "output_type": "display_data"
    }
   ],
   "source": [
    "# o teste com Chi-quadrado pode evidenciar a resposta dessa questão\n",
    "chisq.test(table(df$poutcome, df$y))"
   ]
  },
  {
   "cell_type": "markdown",
   "metadata": {},
   "source": [
    "### R: O p-valor indica que há uma probabilidade alta de que exista alguma dependencia entre as variáveis em questão. Portanto, rejeitamos a hipótese nula (no qual as duas variáveis são independentes)."
   ]
  },
  {
   "cell_type": "markdown",
   "metadata": {},
   "source": [
    "## 5)  Qual o fator determinante para que o banco exija um seguro de crédito?"
   ]
  },
  {
   "cell_type": "code",
   "execution_count": 58,
   "metadata": {
    "scrolled": true
   },
   "outputs": [
    {
     "data": {
      "text/html": [
       "<table>\n",
       "<thead><tr><th scope=col>age</th><th scope=col>job</th><th scope=col>marital</th><th scope=col>education</th><th scope=col>default</th><th scope=col>housing</th><th scope=col>loan</th><th scope=col>y</th></tr></thead>\n",
       "<tbody>\n",
       "\t<tr><td>58          </td><td>management  </td><td>married     </td><td>tertiary    </td><td>no          </td><td>yes         </td><td>no          </td><td>no          </td></tr>\n",
       "\t<tr><td>44          </td><td>technician  </td><td>single      </td><td>secondary   </td><td>no          </td><td>yes         </td><td>no          </td><td>no          </td></tr>\n",
       "\t<tr><td>33          </td><td>entrepreneur</td><td>married     </td><td>secondary   </td><td>no          </td><td>yes         </td><td>yes         </td><td>no          </td></tr>\n",
       "\t<tr><td>47          </td><td>blue-collar </td><td>married     </td><td>unknown     </td><td>no          </td><td>yes         </td><td>no          </td><td>no          </td></tr>\n",
       "\t<tr><td>33          </td><td>unknown     </td><td>single      </td><td>unknown     </td><td>no          </td><td>no          </td><td>no          </td><td>no          </td></tr>\n",
       "\t<tr><td>35          </td><td>management  </td><td>married     </td><td>tertiary    </td><td>no          </td><td>yes         </td><td>no          </td><td>no          </td></tr>\n",
       "</tbody>\n",
       "</table>\n"
      ],
      "text/latex": [
       "\\begin{tabular}{r|llllllll}\n",
       " age & job & marital & education & default & housing & loan & y\\\\\n",
       "\\hline\n",
       "\t 58           & management   & married      & tertiary     & no           & yes          & no           & no          \\\\\n",
       "\t 44           & technician   & single       & secondary    & no           & yes          & no           & no          \\\\\n",
       "\t 33           & entrepreneur & married      & secondary    & no           & yes          & yes          & no          \\\\\n",
       "\t 47           & blue-collar  & married      & unknown      & no           & yes          & no           & no          \\\\\n",
       "\t 33           & unknown      & single       & unknown      & no           & no           & no           & no          \\\\\n",
       "\t 35           & management   & married      & tertiary     & no           & yes          & no           & no          \\\\\n",
       "\\end{tabular}\n"
      ],
      "text/markdown": [
       "\n",
       "| age | job | marital | education | default | housing | loan | y |\n",
       "|---|---|---|---|---|---|---|---|\n",
       "| 58           | management   | married      | tertiary     | no           | yes          | no           | no           |\n",
       "| 44           | technician   | single       | secondary    | no           | yes          | no           | no           |\n",
       "| 33           | entrepreneur | married      | secondary    | no           | yes          | yes          | no           |\n",
       "| 47           | blue-collar  | married      | unknown      | no           | yes          | no           | no           |\n",
       "| 33           | unknown      | single       | unknown      | no           | no           | no           | no           |\n",
       "| 35           | management   | married      | tertiary     | no           | yes          | no           | no           |\n",
       "\n"
      ],
      "text/plain": [
       "  age job          marital education default housing loan y \n",
       "1 58  management   married tertiary  no      yes     no   no\n",
       "2 44  technician   single  secondary no      yes     no   no\n",
       "3 33  entrepreneur married secondary no      yes     yes  no\n",
       "4 47  blue-collar  married unknown   no      yes     no   no\n",
       "5 33  unknown      single  unknown   no      no      no   no\n",
       "6 35  management   married tertiary  no      yes     no   no"
      ]
     },
     "metadata": {},
     "output_type": "display_data"
    }
   ],
   "source": [
    "# selecionando as features para inferir a feature determinante para exigir seguro de crédito \n",
    "df_lr5 <- df %>%\n",
    "    select(\"age\", \"job\", \"marital\", \"education\", \"default\", \"housing\", \"loan\", \"y\")\n",
    "\n",
    "# verificando o dataset\n",
    "head(df_lr5)"
   ]
  },
  {
   "cell_type": "code",
   "execution_count": 59,
   "metadata": {},
   "outputs": [
    {
     "data": {
      "text/html": [
       "<ol class=list-inline>\n",
       "\t<li>0</li>\n",
       "\t<li>1</li>\n",
       "</ol>\n"
      ],
      "text/latex": [
       "\\begin{enumerate*}\n",
       "\\item 0\n",
       "\\item 1\n",
       "\\end{enumerate*}\n"
      ],
      "text/markdown": [
       "1. 0\n",
       "2. 1\n",
       "\n",
       "\n"
      ],
      "text/plain": [
       "[1] 0 1"
      ]
     },
     "metadata": {},
     "output_type": "display_data"
    }
   ],
   "source": [
    "# convertendo a variável dependente para binário\n",
    "df_lr5$y <- ifelse(df_lr5$y == \"no\", 0, 1)\n",
    "\n",
    "# verificando a conversão para binário\n",
    "unique(df_lr5$y)"
   ]
  },
  {
   "cell_type": "code",
   "execution_count": 65,
   "metadata": {
    "scrolled": true
   },
   "outputs": [
    {
     "data": {
      "text/plain": [
       "\n",
       "Call:\n",
       "glm(formula = y ~ ., family = \"binomial\", data = df_lr5)\n",
       "\n",
       "Deviance Residuals: \n",
       "    Min       1Q   Median       3Q      Max  \n",
       "-1.0432  -0.5345  -0.4303  -0.3409   2.8394  \n",
       "\n",
       "Coefficients:\n",
       "                    Estimate Std. Error z value Pr(>|z|)    \n",
       "(Intercept)        -1.954101   0.117932 -16.570  < 2e-16 ***\n",
       "age                 0.004984   0.001806   2.760 0.005774 ** \n",
       "jobblue-collar     -0.338423   0.060887  -5.558 2.73e-08 ***\n",
       "jobentrepreneur    -0.469236   0.106289  -4.415 1.01e-05 ***\n",
       "jobhousemaid       -0.473978   0.112904  -4.198 2.69e-05 ***\n",
       "jobmanagement      -0.181293   0.060775  -2.983 0.002854 ** \n",
       "jobretired          0.511337   0.077600   6.589 4.42e-11 ***\n",
       "jobself-employed   -0.257666   0.092238  -2.794 0.005214 ** \n",
       "jobservices        -0.265172   0.069990  -3.789 0.000151 ***\n",
       "jobstudent          0.573707   0.089680   6.397 1.58e-10 ***\n",
       "jobtechnician      -0.234748   0.057290  -4.098 4.18e-05 ***\n",
       "jobunemployed       0.084277   0.089613   0.940 0.346987    \n",
       "jobunknown         -0.458370   0.191838  -2.389 0.016878 *  \n",
       "maritalmarried     -0.139242   0.048413  -2.876 0.004026 ** \n",
       "maritalsingle       0.237115   0.055007   4.311 1.63e-05 ***\n",
       "educationsecondary  0.233591   0.053449   4.370 1.24e-05 ***\n",
       "educationtertiary   0.522615   0.061629   8.480  < 2e-16 ***\n",
       "educationunknown    0.269348   0.085419   3.153 0.001615 ** \n",
       "defaultyes         -0.500319   0.145832  -3.431 0.000602 ***\n",
       "housingyes         -0.727024   0.032076 -22.666  < 2e-16 ***\n",
       "loanyes            -0.578243   0.050510 -11.448  < 2e-16 ***\n",
       "---\n",
       "Signif. codes:  0 '***' 0.001 '**' 0.01 '*' 0.05 '.' 0.1 ' ' 1\n",
       "\n",
       "(Dispersion parameter for binomial family taken to be 1)\n",
       "\n",
       "    Null deviance: 32631  on 45210  degrees of freedom\n",
       "Residual deviance: 30920  on 45190  degrees of freedom\n",
       "AIC: 30962\n",
       "\n",
       "Number of Fisher Scoring iterations: 5\n"
      ]
     },
     "metadata": {},
     "output_type": "display_data"
    }
   ],
   "source": [
    "# modelo de regressão logística\n",
    "model5 <- glm(y ~ ., data = df_lr5, family = \"binomial\")\n",
    "\n",
    "# verificando o modelo\n",
    "summary(model5)"
   ]
  },
  {
   "cell_type": "code",
   "execution_count": 66,
   "metadata": {},
   "outputs": [
    {
     "name": "stderr",
     "output_type": "stream",
     "text": [
      "Warning message:\n",
      "\"Deprecated, use tibble::rownames_to_column() instead.\""
     ]
    }
   ],
   "source": [
    "# obtendo a razão de chances das features para inferir quais indicam o cliente exigir um seguro de crédito\n",
    "df5 <- as.data.frame(exp(coefficients(model5)))\n",
    "df5 <- add_rownames(df5, \"VALUE\")\n",
    "\n",
    "# alterando nome das colunas\n",
    "colnames(df5)[1] <- \"feature\"\n",
    "colnames(df5)[2] <- \"odds_ratio\"\n",
    "\n",
    "# removendo o intercepto\n",
    "df5 <- df5[-1,]"
   ]
  },
  {
   "cell_type": "markdown",
   "metadata": {},
   "source": [
    "### R: Como pode ser visto a seguir, a feature determinante para o cliente exigir um seguro de crédito é se ele é estudante."
   ]
  },
  {
   "cell_type": "code",
   "execution_count": 67,
   "metadata": {},
   "outputs": [
    {
     "data": {
      "text/html": [
       "<table>\n",
       "<thead><tr><th scope=col>feature</th><th scope=col>odds_ratio</th></tr></thead>\n",
       "<tbody>\n",
       "\t<tr><td>jobstudent        </td><td>1.7748339         </td></tr>\n",
       "\t<tr><td>educationtertiary </td><td>1.6864314         </td></tr>\n",
       "\t<tr><td>jobretired        </td><td>1.6675185         </td></tr>\n",
       "\t<tr><td>educationunknown  </td><td>1.3091102         </td></tr>\n",
       "\t<tr><td>maritalsingle     </td><td>1.2675870         </td></tr>\n",
       "\t<tr><td>educationsecondary</td><td>1.2631276         </td></tr>\n",
       "\t<tr><td>jobunemployed     </td><td>1.0879299         </td></tr>\n",
       "\t<tr><td>age               </td><td>1.0049969         </td></tr>\n",
       "\t<tr><td>maritalmarried    </td><td>0.8700177         </td></tr>\n",
       "\t<tr><td>jobmanagement     </td><td>0.8341907         </td></tr>\n",
       "\t<tr><td>jobtechnician     </td><td>0.7907698         </td></tr>\n",
       "\t<tr><td>jobself-employed  </td><td>0.7728534         </td></tr>\n",
       "\t<tr><td>jobservices       </td><td>0.7670740         </td></tr>\n",
       "\t<tr><td>jobblue-collar    </td><td>0.7128940         </td></tr>\n",
       "\t<tr><td>jobunknown        </td><td>0.6323133         </td></tr>\n",
       "\t<tr><td>jobentrepreneur   </td><td>0.6254802         </td></tr>\n",
       "\t<tr><td>jobhousemaid      </td><td>0.6225207         </td></tr>\n",
       "\t<tr><td>defaultyes        </td><td>0.6063370         </td></tr>\n",
       "\t<tr><td>loanyes           </td><td>0.5608828         </td></tr>\n",
       "\t<tr><td>housingyes        </td><td>0.4833455         </td></tr>\n",
       "</tbody>\n",
       "</table>\n"
      ],
      "text/latex": [
       "\\begin{tabular}{r|ll}\n",
       " feature & odds\\_ratio\\\\\n",
       "\\hline\n",
       "\t jobstudent         & 1.7748339         \\\\\n",
       "\t educationtertiary  & 1.6864314         \\\\\n",
       "\t jobretired         & 1.6675185         \\\\\n",
       "\t educationunknown   & 1.3091102         \\\\\n",
       "\t maritalsingle      & 1.2675870         \\\\\n",
       "\t educationsecondary & 1.2631276         \\\\\n",
       "\t jobunemployed      & 1.0879299         \\\\\n",
       "\t age                & 1.0049969         \\\\\n",
       "\t maritalmarried     & 0.8700177         \\\\\n",
       "\t jobmanagement      & 0.8341907         \\\\\n",
       "\t jobtechnician      & 0.7907698         \\\\\n",
       "\t jobself-employed   & 0.7728534         \\\\\n",
       "\t jobservices        & 0.7670740         \\\\\n",
       "\t jobblue-collar     & 0.7128940         \\\\\n",
       "\t jobunknown         & 0.6323133         \\\\\n",
       "\t jobentrepreneur    & 0.6254802         \\\\\n",
       "\t jobhousemaid       & 0.6225207         \\\\\n",
       "\t defaultyes         & 0.6063370         \\\\\n",
       "\t loanyes            & 0.5608828         \\\\\n",
       "\t housingyes         & 0.4833455         \\\\\n",
       "\\end{tabular}\n"
      ],
      "text/markdown": [
       "\n",
       "| feature | odds_ratio |\n",
       "|---|---|\n",
       "| jobstudent         | 1.7748339          |\n",
       "| educationtertiary  | 1.6864314          |\n",
       "| jobretired         | 1.6675185          |\n",
       "| educationunknown   | 1.3091102          |\n",
       "| maritalsingle      | 1.2675870          |\n",
       "| educationsecondary | 1.2631276          |\n",
       "| jobunemployed      | 1.0879299          |\n",
       "| age                | 1.0049969          |\n",
       "| maritalmarried     | 0.8700177          |\n",
       "| jobmanagement      | 0.8341907          |\n",
       "| jobtechnician      | 0.7907698          |\n",
       "| jobself-employed   | 0.7728534          |\n",
       "| jobservices        | 0.7670740          |\n",
       "| jobblue-collar     | 0.7128940          |\n",
       "| jobunknown         | 0.6323133          |\n",
       "| jobentrepreneur    | 0.6254802          |\n",
       "| jobhousemaid       | 0.6225207          |\n",
       "| defaultyes         | 0.6063370          |\n",
       "| loanyes            | 0.5608828          |\n",
       "| housingyes         | 0.4833455          |\n",
       "\n"
      ],
      "text/plain": [
       "   feature            odds_ratio\n",
       "1  jobstudent         1.7748339 \n",
       "2  educationtertiary  1.6864314 \n",
       "3  jobretired         1.6675185 \n",
       "4  educationunknown   1.3091102 \n",
       "5  maritalsingle      1.2675870 \n",
       "6  educationsecondary 1.2631276 \n",
       "7  jobunemployed      1.0879299 \n",
       "8  age                1.0049969 \n",
       "9  maritalmarried     0.8700177 \n",
       "10 jobmanagement      0.8341907 \n",
       "11 jobtechnician      0.7907698 \n",
       "12 jobself-employed   0.7728534 \n",
       "13 jobservices        0.7670740 \n",
       "14 jobblue-collar     0.7128940 \n",
       "15 jobunknown         0.6323133 \n",
       "16 jobentrepreneur    0.6254802 \n",
       "17 jobhousemaid       0.6225207 \n",
       "18 defaultyes         0.6063370 \n",
       "19 loanyes            0.5608828 \n",
       "20 housingyes         0.4833455 "
      ]
     },
     "metadata": {},
     "output_type": "display_data"
    }
   ],
   "source": [
    "# ordenando \n",
    "df5[order(df5$odds_ratio, decreasing = TRUE),]"
   ]
  },
  {
   "cell_type": "markdown",
   "metadata": {},
   "source": [
    "## 6) Quais são as características mais proeminentes de um cliente que possua empréstimo imobiliário?"
   ]
  },
  {
   "cell_type": "code",
   "execution_count": 60,
   "metadata": {},
   "outputs": [],
   "source": [
    "# selecionando as features para inferir se o cliente possui empréstimo imobiliário \n",
    "df_lr6 <- df %>%\n",
    "    select(\"age\", \"job\", \"marital\", \"education\", \"default\", \"housing\", \"loan\")"
   ]
  },
  {
   "cell_type": "code",
   "execution_count": 61,
   "metadata": {},
   "outputs": [
    {
     "data": {
      "text/html": [
       "<ol class=list-inline>\n",
       "\t<li>1</li>\n",
       "\t<li>0</li>\n",
       "</ol>\n"
      ],
      "text/latex": [
       "\\begin{enumerate*}\n",
       "\\item 1\n",
       "\\item 0\n",
       "\\end{enumerate*}\n"
      ],
      "text/markdown": [
       "1. 1\n",
       "2. 0\n",
       "\n",
       "\n"
      ],
      "text/plain": [
       "[1] 1 0"
      ]
     },
     "metadata": {},
     "output_type": "display_data"
    }
   ],
   "source": [
    "# convertendo a variável dependente para binário\n",
    "df_lr6$housing <- ifelse(df_lr6$housing == \"no\", 0, 1)\n",
    "\n",
    "# verificando a conversão para binário\n",
    "unique(df_lr6$housing)"
   ]
  },
  {
   "cell_type": "code",
   "execution_count": 62,
   "metadata": {
    "scrolled": true
   },
   "outputs": [
    {
     "data": {
      "text/plain": [
       "\n",
       "Call:\n",
       "glm(formula = housing ~ ., family = \"binomial\", data = df_lr6)\n",
       "\n",
       "Deviance Residuals: \n",
       "   Min      1Q  Median      3Q     Max  \n",
       "-1.965  -1.173   0.715   1.017   2.477  \n",
       "\n",
       "Coefficients:\n",
       "                    Estimate Std. Error z value Pr(>|z|)    \n",
       "(Intercept)         2.310996   0.077255  29.914  < 2e-16 ***\n",
       "age                -0.040350   0.001227 -32.897  < 2e-16 ***\n",
       "jobblue-collar      0.496348   0.039006  12.725  < 2e-16 ***\n",
       "jobentrepreneur     0.048932   0.062306   0.785 0.432250    \n",
       "jobhousemaid       -1.019049   0.070274 -14.501  < 2e-16 ***\n",
       "jobmanagement      -0.235973   0.041500  -5.686 1.30e-08 ***\n",
       "jobretired         -0.984080   0.063779 -15.429  < 2e-16 ***\n",
       "jobself-employed   -0.374721   0.060221  -6.222 4.90e-10 ***\n",
       "jobservices         0.171713   0.044302   3.876 0.000106 ***\n",
       "jobstudent         -1.704725   0.082221 -20.734  < 2e-16 ***\n",
       "jobtechnician      -0.256462   0.037532  -6.833 8.31e-12 ***\n",
       "jobunemployed      -0.722075   0.064423 -11.208  < 2e-16 ***\n",
       "jobunknown         -2.408519   0.210176 -11.460  < 2e-16 ***\n",
       "maritalmarried     -0.152552   0.032535  -4.689 2.75e-06 ***\n",
       "maritalsingle      -0.504733   0.037562 -13.437  < 2e-16 ***\n",
       "educationsecondary  0.039727   0.033399   1.189 0.234255    \n",
       "educationtertiary  -0.275506   0.040716  -6.767 1.32e-11 ***\n",
       "educationunknown   -0.259069   0.058797  -4.406 1.05e-05 ***\n",
       "defaultyes         -0.261969   0.074439  -3.519 0.000433 ***\n",
       "loanyes             0.087209   0.027666   3.152 0.001620 ** \n",
       "---\n",
       "Signif. codes:  0 '***' 0.001 '**' 0.01 '*' 0.05 '.' 0.1 ' ' 1\n",
       "\n",
       "(Dispersion parameter for binomial family taken to be 1)\n",
       "\n",
       "    Null deviance: 62111  on 45210  degrees of freedom\n",
       "Residual deviance: 57100  on 45191  degrees of freedom\n",
       "AIC: 57140\n",
       "\n",
       "Number of Fisher Scoring iterations: 4\n"
      ]
     },
     "metadata": {},
     "output_type": "display_data"
    }
   ],
   "source": [
    "# modelo de regressão logística\n",
    "model6 <- glm(housing ~ ., data = df_lr6, family = \"binomial\")\n",
    "\n",
    "# verificando o modelo\n",
    "summary(model6)"
   ]
  },
  {
   "cell_type": "code",
   "execution_count": 63,
   "metadata": {},
   "outputs": [
    {
     "name": "stderr",
     "output_type": "stream",
     "text": [
      "Warning message:\n",
      "\"Deprecated, use tibble::rownames_to_column() instead.\""
     ]
    }
   ],
   "source": [
    "# obtendo a razão de chances das features para inferir quais indicam o cliente ter empréstimo imobiliário\n",
    "df6 <- as.data.frame(exp(coefficients(model6)))\n",
    "df6 <- add_rownames(df6, \"VALUE\")\n",
    "\n",
    "# alterando nome das colunas\n",
    "colnames(df6)[1] <- \"feature\"\n",
    "colnames(df6)[2] <- \"odds_ratio\"\n",
    "\n",
    "# removendo o intercepto\n",
    "df6 <- df6[-1,]"
   ]
  },
  {
   "cell_type": "markdown",
   "metadata": {},
   "source": [
    "### R: Segue a relação em ordem decrescente da razão de chances das features que são preditivas do cliente ter empréstimo imobiliário, no qual são: clientes com emprego de operário (blue-collar job), com emprego na área de serviços, que são autônomos, que já possuem empréstimo pessoal e que possuem ensino fundamental completo."
   ]
  },
  {
   "cell_type": "code",
   "execution_count": 64,
   "metadata": {},
   "outputs": [
    {
     "data": {
      "text/html": [
       "<table>\n",
       "<thead><tr><th scope=col>feature</th><th scope=col>odds_ratio</th></tr></thead>\n",
       "<tbody>\n",
       "\t<tr><td>jobblue-collar    </td><td>1.64271142        </td></tr>\n",
       "\t<tr><td>jobservices       </td><td>1.18733691        </td></tr>\n",
       "\t<tr><td>loanyes           </td><td>1.09112493        </td></tr>\n",
       "\t<tr><td>jobentrepreneur   </td><td>1.05014846        </td></tr>\n",
       "\t<tr><td>educationsecondary</td><td>1.04052624        </td></tr>\n",
       "\t<tr><td>age               </td><td>0.96045294        </td></tr>\n",
       "\t<tr><td>maritalmarried    </td><td>0.85851400        </td></tr>\n",
       "\t<tr><td>jobmanagement     </td><td>0.78980171        </td></tr>\n",
       "\t<tr><td>jobtechnician     </td><td>0.77378460        </td></tr>\n",
       "\t<tr><td>educationunknown  </td><td>0.77176947        </td></tr>\n",
       "\t<tr><td>defaultyes        </td><td>0.76953495        </td></tr>\n",
       "\t<tr><td>educationtertiary </td><td>0.75918781        </td></tr>\n",
       "\t<tr><td>jobself-employed  </td><td>0.68748102        </td></tr>\n",
       "\t<tr><td>maritalsingle     </td><td>0.60366673        </td></tr>\n",
       "\t<tr><td>jobunemployed     </td><td>0.48574330        </td></tr>\n",
       "\t<tr><td>jobretired        </td><td>0.37378303        </td></tr>\n",
       "\t<tr><td>jobhousemaid      </td><td>0.36093816        </td></tr>\n",
       "\t<tr><td>jobstudent        </td><td>0.18182240        </td></tr>\n",
       "\t<tr><td>jobunknown        </td><td>0.08994845        </td></tr>\n",
       "</tbody>\n",
       "</table>\n"
      ],
      "text/latex": [
       "\\begin{tabular}{r|ll}\n",
       " feature & odds\\_ratio\\\\\n",
       "\\hline\n",
       "\t jobblue-collar     & 1.64271142        \\\\\n",
       "\t jobservices        & 1.18733691        \\\\\n",
       "\t loanyes            & 1.09112493        \\\\\n",
       "\t jobentrepreneur    & 1.05014846        \\\\\n",
       "\t educationsecondary & 1.04052624        \\\\\n",
       "\t age                & 0.96045294        \\\\\n",
       "\t maritalmarried     & 0.85851400        \\\\\n",
       "\t jobmanagement      & 0.78980171        \\\\\n",
       "\t jobtechnician      & 0.77378460        \\\\\n",
       "\t educationunknown   & 0.77176947        \\\\\n",
       "\t defaultyes         & 0.76953495        \\\\\n",
       "\t educationtertiary  & 0.75918781        \\\\\n",
       "\t jobself-employed   & 0.68748102        \\\\\n",
       "\t maritalsingle      & 0.60366673        \\\\\n",
       "\t jobunemployed      & 0.48574330        \\\\\n",
       "\t jobretired         & 0.37378303        \\\\\n",
       "\t jobhousemaid       & 0.36093816        \\\\\n",
       "\t jobstudent         & 0.18182240        \\\\\n",
       "\t jobunknown         & 0.08994845        \\\\\n",
       "\\end{tabular}\n"
      ],
      "text/markdown": [
       "\n",
       "| feature | odds_ratio |\n",
       "|---|---|\n",
       "| jobblue-collar     | 1.64271142         |\n",
       "| jobservices        | 1.18733691         |\n",
       "| loanyes            | 1.09112493         |\n",
       "| jobentrepreneur    | 1.05014846         |\n",
       "| educationsecondary | 1.04052624         |\n",
       "| age                | 0.96045294         |\n",
       "| maritalmarried     | 0.85851400         |\n",
       "| jobmanagement      | 0.78980171         |\n",
       "| jobtechnician      | 0.77378460         |\n",
       "| educationunknown   | 0.77176947         |\n",
       "| defaultyes         | 0.76953495         |\n",
       "| educationtertiary  | 0.75918781         |\n",
       "| jobself-employed   | 0.68748102         |\n",
       "| maritalsingle      | 0.60366673         |\n",
       "| jobunemployed      | 0.48574330         |\n",
       "| jobretired         | 0.37378303         |\n",
       "| jobhousemaid       | 0.36093816         |\n",
       "| jobstudent         | 0.18182240         |\n",
       "| jobunknown         | 0.08994845         |\n",
       "\n"
      ],
      "text/plain": [
       "   feature            odds_ratio\n",
       "1  jobblue-collar     1.64271142\n",
       "2  jobservices        1.18733691\n",
       "3  loanyes            1.09112493\n",
       "4  jobentrepreneur    1.05014846\n",
       "5  educationsecondary 1.04052624\n",
       "6  age                0.96045294\n",
       "7  maritalmarried     0.85851400\n",
       "8  jobmanagement      0.78980171\n",
       "9  jobtechnician      0.77378460\n",
       "10 educationunknown   0.77176947\n",
       "11 defaultyes         0.76953495\n",
       "12 educationtertiary  0.75918781\n",
       "13 jobself-employed   0.68748102\n",
       "14 maritalsingle      0.60366673\n",
       "15 jobunemployed      0.48574330\n",
       "16 jobretired         0.37378303\n",
       "17 jobhousemaid       0.36093816\n",
       "18 jobstudent         0.18182240\n",
       "19 jobunknown         0.08994845"
      ]
     },
     "metadata": {},
     "output_type": "display_data"
    }
   ],
   "source": [
    "# ordenando \n",
    "df6[order(df6$odds_ratio, decreasing = TRUE),]"
   ]
  }
 ],
 "metadata": {
  "kernelspec": {
   "display_name": "R",
   "language": "R",
   "name": "ir"
  },
  "language_info": {
   "codemirror_mode": "r",
   "file_extension": ".r",
   "mimetype": "text/x-r-source",
   "name": "R",
   "pygments_lexer": "r",
   "version": "3.5.1"
  }
 },
 "nbformat": 4,
 "nbformat_minor": 2
}
